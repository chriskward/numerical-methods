{
 "cells": [
  {
   "cell_type": "markdown",
   "id": "a6de3820-7861-4485-b106-d98d9c2c2ad9",
   "metadata": {},
   "source": [
    "## Convert a number to English Language text"
   ]
  },
  {
   "cell_type": "code",
   "execution_count": 10,
   "id": "b2351900-add5-4d2d-b479-4931b44626d3",
   "metadata": {},
   "outputs": [],
   "source": [
    "from numpy.random import randn\n",
    "from textnumber import textnumber"
   ]
  },
  {
   "cell_type": "markdown",
   "id": "1b701939-efb8-420a-993c-cc9202ea251b",
   "metadata": {},
   "source": [
    "This simple utility parses a number and expresses it in the standard British English pronunciation. The logic is somewhat convoluted. Note that, for example:\n",
    "\n",
    "0 -> 'zero'\n",
    "100 -> 'one hundred' not 'one zero zero'\n",
    "1100 -> 'one thousand one hundred' NOT 'one thousand and one hundred'\n",
    "1020 -> 'one thousand AND twenty' NOT 'one thousand twenty'"
   ]
  },
  {
   "cell_type": "code",
   "execution_count": 12,
   "id": "090656f7-daac-438f-99a8-01b41dce2c15",
   "metadata": {},
   "outputs": [
    {
     "data": {
      "text/plain": [
       "'one thousand one hundred'"
      ]
     },
     "execution_count": 12,
     "metadata": {},
     "output_type": "execute_result"
    }
   ],
   "source": [
    "textnumber(1100)"
   ]
  },
  {
   "cell_type": "code",
   "execution_count": 13,
   "id": "b92d2411-22b7-4c6c-b9e7-9a2f5dbb814d",
   "metadata": {},
   "outputs": [
    {
     "data": {
      "text/plain": [
       "'one thousand and twenty'"
      ]
     },
     "execution_count": 13,
     "metadata": {},
     "output_type": "execute_result"
    }
   ],
   "source": [
    "textnumber(1020)"
   ]
  },
  {
   "cell_type": "code",
   "execution_count": 6,
   "id": "ec25d77a-4bf0-4f3c-b847-e4b94fe44586",
   "metadata": {},
   "outputs": [
    {
     "data": {
      "text/plain": [
       "'twenty nine thousand two hundred and eighty five point eight two nine'"
      ]
     },
     "execution_count": 6,
     "metadata": {},
     "output_type": "execute_result"
    }
   ],
   "source": [
    "textnumber(29285.829)"
   ]
  },
  {
   "cell_type": "code",
   "execution_count": 11,
   "id": "e85db146-cbd8-4ceb-9892-bb48b9ed40a1",
   "metadata": {},
   "outputs": [
    {
     "data": {
      "text/plain": [
       "'one point two two five one eight zero seven zero nine zero zero one nine three zero four'"
      ]
     },
     "execution_count": 11,
     "metadata": {},
     "output_type": "execute_result"
    }
   ],
   "source": [
    "textnumber(randn())"
   ]
  },
  {
   "cell_type": "code",
   "execution_count": null,
   "id": "caf36217-ea7f-40bc-b65b-0e8ed87cdfee",
   "metadata": {},
   "outputs": [],
   "source": []
  },
  {
   "cell_type": "code",
   "execution_count": null,
   "id": "4f6a0e07-5e21-4802-93d3-4ec23423fc95",
   "metadata": {},
   "outputs": [],
   "source": []
  }
 ],
 "metadata": {
  "kernelspec": {
   "display_name": "Python 3 (ipykernel)",
   "language": "python",
   "name": "python3"
  },
  "language_info": {
   "codemirror_mode": {
    "name": "ipython",
    "version": 3
   },
   "file_extension": ".py",
   "mimetype": "text/x-python",
   "name": "python",
   "nbconvert_exporter": "python",
   "pygments_lexer": "ipython3",
   "version": "3.9.18"
  }
 },
 "nbformat": 4,
 "nbformat_minor": 5
}
